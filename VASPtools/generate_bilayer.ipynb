{
 "cells": [
  {
   "cell_type": "code",
   "execution_count": null,
   "id": "4422b59a",
   "metadata": {},
   "outputs": [],
   "source": [
    "from pymatgen.analysis.interface import ZSLGenerator"
   ]
  }
 ],
 "metadata": {
  "language_info": {
   "name": "python"
  }
 },
 "nbformat": 4,
 "nbformat_minor": 5
}
